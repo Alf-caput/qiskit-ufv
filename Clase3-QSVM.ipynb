{
 "cells": [
  {
   "cell_type": "markdown",
   "metadata": {},
   "source": [
    "We need to scale our data to the range $[0, 2\\pi)$ or to a range with angles that we can use when designing the quantum circuit. \n",
    "\n",
    "Note in the quantum circuit we shouldn't start by rotating Z since our circuit always starts in |0> \n",
    "\n",
    "(A rotation in Z of this qubit is like not doing anything)\n",
    "\n",
    "Also note that $[0, \\pi]$ might not be good because if we fully rotate $\\pi$ the next rotation won't really affect the state vector in some cases(example we start in zero and just apply $\\pi$ the next rotation we apply for certain axis might not do anything)"
   ]
  },
  {
   "cell_type": "markdown",
   "metadata": {},
   "source": []
  }
 ],
 "metadata": {
  "language_info": {
   "name": "python"
  }
 },
 "nbformat": 4,
 "nbformat_minor": 2
}
